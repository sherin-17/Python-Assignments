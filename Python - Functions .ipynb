{
 "cells": [
  {
   "cell_type": "markdown",
   "id": "4d19cfba-ff0a-4a57-8d2d-837efcdb4588",
   "metadata": {},
   "source": [
    "### Python - Functions"
   ]
  },
  {
   "cell_type": "code",
   "execution_count": 1,
   "id": "93ceee26-49f8-455d-97e2-161eea0b9efc",
   "metadata": {},
   "outputs": [
    {
     "name": "stdout",
     "output_type": "stream",
     "text": [
      "[12, 17, 22, 2, 25]\n"
     ]
    }
   ],
   "source": [
    "# Q1.  What does the len() function do in Python? Write a code example using len() to find the length of a list.\n",
    "#The len() function in Python is used to determine the number of items in an object. It is most commonly applied to data structures like strings, lists,tuples, sets, and dictionaries. \n",
    "len=[12,17,22,2,25]\n",
    "print(len)"
   ]
  },
  {
   "cell_type": "code",
   "execution_count": 2,
   "id": "08c7f7d4-3edc-46dd-9886-116fb25d5832",
   "metadata": {},
   "outputs": [
    {
     "name": "stdout",
     "output_type": "stream",
     "text": [
      "Hello, sherin!\n"
     ]
    }
   ],
   "source": [
    "# Q2. Write a Python function greet(name) that takes a person's name as input and prints \"Hello, [name]!\".\n",
    "def greet(name):\n",
    "    print(f\"Hello, {name}!\")\n",
    "greet(\"sherin\")"
   ]
  },
  {
   "cell_type": "code",
   "execution_count": 3,
   "id": "ea0f6e60-6d51-46b1-baba-1868ef54136e",
   "metadata": {},
   "outputs": [
    {
     "data": {
      "text/plain": [
       "99"
      ]
     },
     "execution_count": 3,
     "metadata": {},
     "output_type": "execute_result"
    }
   ],
   "source": [
    "# Q3. Write a Python function find_maximum(numbers) that takes a list of integers and returns the maximum value without using the built-in max() function. \n",
    "# Use a loop to iterate through the list and compare values.\n",
    "def find_maximum(numbers):\n",
    "    maximum = numbers[0]\n",
    "    for number in numbers:\n",
    "        if number > maximum:\n",
    "            maximum = number\n",
    "    return maximum\n",
    "\n",
    "numbers = [58,99,67,12,39]\n",
    "find_maximum(numbers)"
   ]
  },
  {
   "cell_type": "code",
   "execution_count": 4,
   "id": "b3993a0e-39fe-493e-a8cb-a00a8b67d5a4",
   "metadata": {},
   "outputs": [
    {
     "name": "stdout",
     "output_type": "stream",
     "text": [
      "local variable =  80\n",
      "Global variable =  50\n"
     ]
    }
   ],
   "source": [
    "# Q4. Explain the difference between local and global variables in a Python function.\n",
    "# Write a program where a global variable and a local variable have the same name and show how Python differentiates between them.\n",
    "#Local variables are defined inside a function and can only be accessed within that function.\n",
    "#Global variables are defined outside functions and can be accessed throughout the entire program.\n",
    "x=50\n",
    "def example_function():\n",
    "    x=80\n",
    "    print(\"local variable = \",x)\n",
    "example_function()\n",
    "print(\"Global variable = \",x)"
   ]
  },
  {
   "cell_type": "code",
   "execution_count": 5,
   "id": "961d2cd7-6eba-4747-adb2-7c8a04247e5d",
   "metadata": {},
   "outputs": [
    {
     "name": "stdout",
     "output_type": "stream",
     "text": [
      "45\n",
      "48\n"
     ]
    }
   ],
   "source": [
    "# Q5. Create a function calculate_area(length, width=5) that calculates the area of a rectangle. If only the length is provided, the function should assume the width is 5. \n",
    "# Show how the function behaves when called with and without the width argument.\n",
    "def calculate_area(length, width=5):\n",
    "    area= length * width\n",
    "    return area\n",
    "\n",
    "a1= calculate_area(15,3)\n",
    "print(a1)\n",
    "\n",
    "a2= calculate_area(12,4)\n",
    "print(a2)"
   ]
  }
 ],
 "metadata": {
  "kernelspec": {
   "display_name": "Python 3 (ipykernel)",
   "language": "python",
   "name": "python3"
  },
  "language_info": {
   "codemirror_mode": {
    "name": "ipython",
    "version": 3
   },
   "file_extension": ".py",
   "mimetype": "text/x-python",
   "name": "python",
   "nbconvert_exporter": "python",
   "pygments_lexer": "ipython3",
   "version": "3.12.7"
  }
 },
 "nbformat": 4,
 "nbformat_minor": 5
}
