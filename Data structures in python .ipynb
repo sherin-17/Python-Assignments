{
 "cells": [
  {
   "cell_type": "markdown",
   "id": "e82ea9ef-0100-4126-88a3-d6331f1096bf",
   "metadata": {},
   "source": [
    "### Data structures in Python"
   ]
  },
  {
   "cell_type": "markdown",
   "id": "1d4f517a-224f-4afb-adf8-efe5c97626f0",
   "metadata": {},
   "source": [
    "##### Topic - List"
   ]
  },
  {
   "cell_type": "code",
   "execution_count": 15,
   "id": "d8e3e7a5-1203-4e59-9162-5ceed328b24c",
   "metadata": {},
   "outputs": [
    {
     "name": "stdout",
     "output_type": "stream",
     "text": [
      "[17, 12, 35, 22, 67]\n"
     ]
    }
   ],
   "source": [
    "#Exercise-1\n",
    "# Q1. Create a list of 5 random numbers and print the list. \n",
    "l1= [17,12,35,22,67]\n",
    "print(l1)"
   ]
  },
  {
   "cell_type": "code",
   "execution_count": 16,
   "id": "9f361fb6-894c-40b2-b7c5-391f36f4295d",
   "metadata": {},
   "outputs": [
    {
     "name": "stdout",
     "output_type": "stream",
     "text": [
      "[17, 12, 35, 22, 67, 100, 50, 25]\n"
     ]
    }
   ],
   "source": [
    "# Q2. Insert 3 new values to the list and print the updated list.\n",
    "l1.extend([100,50,25])\n",
    "print(l1)"
   ]
  },
  {
   "cell_type": "code",
   "execution_count": 17,
   "id": "4767fb7f-f2da-4f12-acdd-c10ed1b89963",
   "metadata": {},
   "outputs": [
    {
     "name": "stdout",
     "output_type": "stream",
     "text": [
      "17\n",
      "12\n",
      "35\n",
      "22\n",
      "67\n",
      "100\n",
      "50\n",
      "25\n"
     ]
    }
   ],
   "source": [
    "# Q3. Try to use a for loop to print each element in the list.\n",
    "for number in l1:\n",
    "    print(number)"
   ]
  },
  {
   "cell_type": "markdown",
   "id": "6f9e836b-2e67-440a-b03a-9d116efabdd3",
   "metadata": {},
   "source": [
    "##### Topic - Dictionary"
   ]
  },
  {
   "cell_type": "code",
   "execution_count": 18,
   "id": "0766503c-9906-4c4e-970d-601c91a32a87",
   "metadata": {},
   "outputs": [
    {
     "name": "stdout",
     "output_type": "stream",
     "text": [
      "{'Name': 'John', 'Age': '22', 'Address': 'New York'}\n"
     ]
    }
   ],
   "source": [
    "#Exercise-2\n",
    "# Q1. Create a dictionary with keys 'name', 'age', and 'address' and values 'John', 25, and 'New York' respectively.\n",
    "d1={'Name':'John','Age':'22','Address':'New York'}\n",
    "print(d1)"
   ]
  },
  {
   "cell_type": "code",
   "execution_count": 19,
   "id": "c187d15f-cb85-48f3-9bf8-598b3965cbc4",
   "metadata": {},
   "outputs": [
    {
     "name": "stdout",
     "output_type": "stream",
     "text": [
      "{'Name': 'John', 'Age': '22', 'Address': 'New York', 'phone': '1234567890'}\n"
     ]
    }
   ],
   "source": [
    "# Q2. Add a new key-value pair to the dictionary created in Q1 with key 'phone' and value '1234567890'\n",
    "d1['phone']='1234567890'\n",
    "print(d1)"
   ]
  },
  {
   "cell_type": "markdown",
   "id": "685ab1c9-c155-4622-ba19-305ed60ca870",
   "metadata": {},
   "source": [
    "##### Topic - Set"
   ]
  },
  {
   "cell_type": "code",
   "execution_count": 20,
   "id": "d261c0b3-a2dd-4618-8392-014ffe3b15a1",
   "metadata": {},
   "outputs": [
    {
     "data": {
      "text/plain": [
       "{1, 2, 3, 4, 5}"
      ]
     },
     "execution_count": 20,
     "metadata": {},
     "output_type": "execute_result"
    }
   ],
   "source": [
    "#Exrcise-3\n",
    "# Q1.Create a set with values 1, 2, 3, 4, and 5.\n",
    "s1={1,2,3,4,5}\n",
    "s1"
   ]
  },
  {
   "cell_type": "code",
   "execution_count": 21,
   "id": "714360b5-7ee6-4ea5-9697-563c0094189d",
   "metadata": {},
   "outputs": [
    {
     "data": {
      "text/plain": [
       "{1, 2, 3, 4, 5, 6}"
      ]
     },
     "execution_count": 21,
     "metadata": {},
     "output_type": "execute_result"
    }
   ],
   "source": [
    "# Q2 Add the value 6 to the set created in Q1.\n",
    "s1.add(6)\n",
    "s1"
   ]
  },
  {
   "cell_type": "code",
   "execution_count": 22,
   "id": "79bad3d4-3e21-40ff-8a07-6ccd359a7e4a",
   "metadata": {},
   "outputs": [
    {
     "data": {
      "text/plain": [
       "{1, 2, 4, 5, 6}"
      ]
     },
     "execution_count": 22,
     "metadata": {},
     "output_type": "execute_result"
    }
   ],
   "source": [
    "# Q3. Remove the value 3 from the set created in Q1.\n",
    "s1.remove(3)\n",
    "s1"
   ]
  },
  {
   "cell_type": "markdown",
   "id": "f6e38d4c-b82b-4fff-bde6-4e28e31c9ad3",
   "metadata": {},
   "source": [
    "##### Topic - Tuple"
   ]
  },
  {
   "cell_type": "code",
   "execution_count": 23,
   "id": "d2afff2a-549f-4380-9793-fe152fc4f092",
   "metadata": {},
   "outputs": [
    {
     "data": {
      "text/plain": [
       "(1, 2, 3, 4)"
      ]
     },
     "execution_count": 23,
     "metadata": {},
     "output_type": "execute_result"
    }
   ],
   "source": [
    "#Exercise-4\n",
    "# Q1. Create a tuple with values 1, 2, 3, and 4\n",
    "t1=1,2,3,4\n",
    "t1"
   ]
  },
  {
   "cell_type": "code",
   "execution_count": 24,
   "id": "061ae233-2aa9-4f2d-a96e-b92827334c9c",
   "metadata": {},
   "outputs": [
    {
     "name": "stdout",
     "output_type": "stream",
     "text": [
      "4\n"
     ]
    }
   ],
   "source": [
    "# Q2. Print the length of the tuple created in Q1.\n",
    "print(len(t1))"
   ]
  }
 ],
 "metadata": {
  "kernelspec": {
   "display_name": "Python 3 (ipykernel)",
   "language": "python",
   "name": "python3"
  },
  "language_info": {
   "codemirror_mode": {
    "name": "ipython",
    "version": 3
   },
   "file_extension": ".py",
   "mimetype": "text/x-python",
   "name": "python",
   "nbconvert_exporter": "python",
   "pygments_lexer": "ipython3",
   "version": "3.12.7"
  }
 },
 "nbformat": 4,
 "nbformat_minor": 5
}
