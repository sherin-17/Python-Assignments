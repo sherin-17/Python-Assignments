{
 "cells": [
  {
   "cell_type": "code",
   "execution_count": 1,
   "id": "fa29332a-c4a1-463f-9516-a4419a1b598e",
   "metadata": {},
   "outputs": [
    {
     "name": "stdout",
     "output_type": "stream",
     "text": [
      "shiba sherin\n",
      "101\n",
      "shibasherin12@gmail.com\n"
     ]
    }
   ],
   "source": [
    "#Exercise-1\n",
    "#Write Python code that prints your name, student number and email address.\n",
    "print(\"shiba sherin\")\n",
    "print(\"101\")\n",
    "print(\"shibasherin12@gmail.com\")"
   ]
  },
  {
   "cell_type": "code",
   "execution_count": 2,
   "id": "23a18595-e32b-48ee-9364-c8664451bab3",
   "metadata": {},
   "outputs": [
    {
     "name": "stdout",
     "output_type": "stream",
     "text": [
      "\"shiba sherin\"\n",
      "\"101\"\n",
      "\"shibasherin12@gmail.com\"\n"
     ]
    }
   ],
   "source": [
    "#Exercise-2\n",
    "#Write Python code that prints your name, student number and email address using escape sequences.\n",
    "print(\"\\\"shiba sherin\\\"\")\n",
    "print(\"\\\"101\\\"\")\n",
    "print(\"\\\"shibasherin12@gmail.com\\\"\")\n"
   ]
  },
  {
   "cell_type": "code",
   "execution_count": 3,
   "id": "7f60d771-c7b9-43f9-b1f6-2b534fa18fac",
   "metadata": {},
   "outputs": [
    {
     "name": "stdout",
     "output_type": "stream",
     "text": [
      "14+7= 21\n",
      "14-7= 7\n",
      "14*7= 98\n",
      "14/7= 2.0\n"
     ]
    }
   ],
   "source": [
    "#Excercise-3\n",
    "#Write Python code that add, subtract, multiply and divide the two numbers.\n",
    "n1=14\n",
    "n2=7\n",
    "\n",
    "add=n1+n2\n",
    "sub=n1-n2\n",
    "multi=n1*n2\n",
    "div=n1/n2\n",
    "\n",
    "print (\"14+7=\",add) \n",
    "print (\"14-7=\",sub) \n",
    "print (\"14*7=\",multi)\n",
    "print (\"14/7=\",div) "
   ]
  },
  {
   "cell_type": "code",
   "execution_count": 4,
   "id": "e865029f-cd63-4d79-a5c6-f2ea3414dda8",
   "metadata": {},
   "outputs": [
    {
     "name": "stdout",
     "output_type": "stream",
     "text": [
      "\n",
      "          1\n",
      "             2\n",
      "                3\n",
      "                    4\n",
      "                        5\n",
      "    \n"
     ]
    }
   ],
   "source": [
    "#Excercise-4\n",
    "#Write Python code that displays the numbers from 1 to 5 as steps.\n",
    "print(\"\"\"\n",
    "          1\n",
    "             2\n",
    "                3\n",
    "                    4\n",
    "                        5\n",
    "    \"\"\")"
   ]
  },
  {
   "cell_type": "code",
   "execution_count": 5,
   "id": "e79e0f63-8e43-49e2-a33c-c5cf662436b9",
   "metadata": {},
   "outputs": [
    {
     "name": "stdout",
     "output_type": "stream",
     "text": [
      "\"SDK\" stands for \"software Development Kit\", whereas \n",
      "\"IDE\" stands for \"Integrated Development Environment\".\n"
     ]
    }
   ],
   "source": [
    "#Excercise-5\n",
    "#Write Python code that outputs the following sentence (including the quotation marks and line break) to the screen: \n",
    "#An example runs of the program: \"SDK\" stands for \"Software Development Kit\", whereas \"IDE\" stands for \"Integrated Development Environment\".\n",
    "print('\"SDK\" stands for \"software Development Kit\", whereas \\n\"IDE\" stands for \"Integrated Development Environment\".')"
   ]
  },
  {
   "cell_type": "code",
   "execution_count": 6,
   "id": "fb996c51-b815-4ff1-a3b6-21eae3f08b48",
   "metadata": {},
   "outputs": [
    {
     "name": "stdout",
     "output_type": "stream",
     "text": [
      "python is an \"awesome\"language.\n",
      "python\n",
      "\t2023\n",
      "I'm from Entri\n",
      "5\n",
      "e\n",
      "Entri\n",
      "2023\n",
      "Entr2023\n",
      "Entri*20"
     ]
    }
   ],
   "source": [
    "#Excercise-6\n",
    "#Practice and check the output \n",
    "print(\"python is an \\\"awesome\\\"language.\")\n",
    "print(\"python\\n\\t2023\")\n",
    "print('I\\'m from Entri.\\b')\n",
    "print(\"\\65\")\n",
    "print(\"\\x65\")\n",
    "print(\"Entri\",\"2023\",sep=\"\\n\")\n",
    "print(\"Entri\",\"2023\",sep=\"\\b\")\n",
    "print(\"Entri\",\"2023\",sep=\"*\",end=\"\\b\\b\\b\\b\")"
   ]
  },
  {
   "cell_type": "code",
   "execution_count": 7,
   "id": "5249253e-3db8-4230-9285-564f9a848079",
   "metadata": {},
   "outputs": [
    {
     "name": "stdout",
     "output_type": "stream",
     "text": [
      "type of num <class 'int'>\n",
      "type of textnum <class 'str'>\n",
      "type of decimal <class 'float'>\n",
      "178.3\n",
      "type of sum <class 'float'>\n"
     ]
    }
   ],
   "source": [
    "#Excercise-7\n",
    "#Define the variables below. Print the types of each variable. What is the sum of your variables? \n",
    "#(Hint: use a type conversion function.) What datatype is the sum? num=23 textnum=\"57\" decimal=98.3 \n",
    "num=23\n",
    "textnum=\"57\"\n",
    "decimal=98.3\n",
    "\n",
    "print(\"type of num\",type(num))\n",
    "print(\"type of textnum\",type(textnum))\n",
    "print(\"type of decimal\",type(decimal))\n",
    "\n",
    "sum=num+int(textnum)+decimal\n",
    "print(sum)\n",
    "print(\"type of sum\",type(sum))"
   ]
  },
  {
   "cell_type": "code",
   "execution_count": 8,
   "id": "c451d935-1fcc-40ca-beda-a68e8f185ac3",
   "metadata": {},
   "outputs": [
    {
     "name": "stdout",
     "output_type": "stream",
     "text": [
      "total number of minutes in an year =  525600\n"
     ]
    }
   ],
   "source": [
    "#Excercis-8\n",
    "## calculate the number of minutes in a year using variables for each unit of time.\n",
    "##print a statement that describes what your code does also.\n",
    "##Create three variables to store no of days in a year, minute in a hour, hours in a day, then calculate the total minutes in a year and \n",
    "##print the values(hint) total number of minutes in an year =No.of days in an year * Hours in a day * Minutes in an hour\n",
    "days=365\n",
    "hours=24\n",
    "minutes=60\n",
    "total_no_of_minutes=days*hours*minutes\n",
    "print(\"total number of minutes in an year = \",total_no_of_minutes)"
   ]
  },
  {
   "cell_type": "code",
   "execution_count": 9,
   "id": "4ddd4020-bbc0-4b0b-9510-438e86f93b8a",
   "metadata": {},
   "outputs": [
    {
     "name": "stdin",
     "output_type": "stream",
     "text": [
      "please enter your name:  Ayisha\n"
     ]
    },
    {
     "name": "stdout",
     "output_type": "stream",
     "text": [
      "Hi Ayisha ,welcome to Python programming :) \n"
     ]
    }
   ],
   "source": [
    "#Excercise-9\n",
    "#Write Python code that asks the user to enter his/her name and then output/prints his/her name with a greeting. An example runs of the program: \n",
    "#Please enter you name: Tony Hi Tony, welcome to Python programming :) \n",
    "name=input(\"please enter your name: \")\n",
    "print(\"Hi\",name,\",\" \"welcome to Python programming :) \")"
   ]
  },
  {
   "cell_type": "code",
   "execution_count": 10,
   "id": "e6db1e8d-59a4-44c1-891c-f66c7f600ad0",
   "metadata": {},
   "outputs": [
    {
     "name": "stdin",
     "output_type": "stream",
     "text": [
      "Please enter amount in pounds:  £ 100\n"
     ]
    },
    {
     "name": "stdout",
     "output_type": "stream",
     "text": [
      "£ 100.0 are $ 352.0\n"
     ]
    }
   ],
   "source": [
    "#Excercise-10\n",
    "#Name your file: PoundsToDollars.py Write a program that asks the user to enter an amount in pounds (£) and the program \n",
    "#calculates and converts an amount in dollar ($) An example runs of the program: Please enter amount in pounds: XXX £ XXX are $ XXX\n",
    "pounds = float(input(\"Please enter amount in pounds:  £\"))\n",
    "exchange_rate = 3.52\n",
    "\n",
    "dollar = pounds * exchange_rate\n",
    "print(\"£\",pounds,\"are $\",dollar)"
   ]
  }
 ],
 "metadata": {
  "kernelspec": {
   "display_name": "Python 3 (ipykernel)",
   "language": "python",
   "name": "python3"
  },
  "language_info": {
   "codemirror_mode": {
    "name": "ipython",
    "version": 3
   },
   "file_extension": ".py",
   "mimetype": "text/x-python",
   "name": "python",
   "nbconvert_exporter": "python",
   "pygments_lexer": "ipython3",
   "version": "3.12.7"
  }
 },
 "nbformat": 4,
 "nbformat_minor": 5
}
