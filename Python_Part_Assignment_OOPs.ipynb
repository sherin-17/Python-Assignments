{
 "cells": [
  {
   "cell_type": "markdown",
   "id": "835218a4-8ebd-436d-89e0-230b76616e17",
   "metadata": {},
   "source": [
    "### Python_Part_Assignment_OOPs"
   ]
  },
  {
   "cell_type": "code",
   "execution_count": 1,
   "id": "c80a2c82-09e6-408e-a07a-b9e5057ae724",
   "metadata": {},
   "outputs": [
    {
     "name": "stdout",
     "output_type": "stream",
     "text": [
      "Course Code: CS101, Name: Introduction to Computer Science, Credits: 3, Required for Major: True\n",
      "Course Code: CS102, Name: Introduction to Computer Science, Credits: 3, Elective Type: Technical\n"
     ]
    }
   ],
   "source": [
    "# Exercise-1\n",
    "# Build a program to manage a university's course catalog. You want to define a base class Course that has the following properties:\n",
    "# course_code: a string representing the course code (e.g., \"CS101\")\n",
    "# course_name: a string representing the course name (e.g., \"Introduction to Computer Science\")\n",
    "# credit_hours: an integer representing the credit hours for the course (e.g., 3)\n",
    "# You also want to define two subclasses CoreCourse and ElectiveCourse, which inherit from the Course class.\n",
    "# CoreCourse should have an additional property required_for_major which is a boolean representing whether the course is required for a particular major.\n",
    "# ElectiveCourse should have an additional property elective_type which is a string representing the type of elective \n",
    "# (e.g., \"general\", \"technical\", \"liberal arts\").\n",
    "class Course:\n",
    "    def __init__(self, course_code, course_name, credit_hours):\n",
    "        self.course_code = course_code\n",
    "        self.course_name = course_name\n",
    "        self.credit_hours = credit_hours\n",
    "        self.required_for_major = None\n",
    "\n",
    "    def display_info(self):\n",
    "        return f\"Course Code: {self.course_code}, Name: {self.course_name}, Credits: {self.credit_hours}\"\n",
    "\n",
    "class CoreCourse(Course):\n",
    "    def __init__(self, course_code, course_name, credit_hours, required_for_major):\n",
    "        super().__init__(course_code, course_name, credit_hours)\n",
    "        self.required_for_major = required_for_major\n",
    "\n",
    "    def display_info(self):\n",
    "        base_info = super().display_info()\n",
    "        return f\"{base_info}, Required for Major: {self.required_for_major}\"\n",
    "\n",
    "class ElectiveCourse(Course):\n",
    "    def __init__(self, course_code, course_name, credit_hours, elective_type):\n",
    "        super().__init__(course_code, course_name, credit_hours)\n",
    "        self.elective_type = elective_type\n",
    "\n",
    "    def display_info(self):\n",
    "        base_info = super().display_info()\n",
    "        return f\"{base_info}, Elective Type: {self.elective_type}\"\n",
    "\n",
    "core_course = CoreCourse(\"CS101\", \"Introduction to Computer Science\", 3, True)\n",
    "elective_course = ElectiveCourse(\"CS102\", \"Introduction to Computer Science\", 3, \"Technical\")\n",
    "\n",
    "print(core_course.display_info())\n",
    "print(elective_course.display_info())\n"
   ]
  },
  {
   "cell_type": "code",
   "execution_count": 4,
   "id": "c71ddf44-9371-40d5-85a3-67d942daa57e",
   "metadata": {},
   "outputs": [
    {
     "name": "stdout",
     "output_type": "stream",
     "text": [
      "Employee Name: Sherin\n",
      "Employee Salary: 70000\n"
     ]
    }
   ],
   "source": [
    "# Exrcise-2\n",
    "# Create a Python module named employee that contains a class Employee with attributes name, salary and methods get_name() and get_salary(). \n",
    "# Write a program to use this module to create an object of the Employee class and display its name and salary.from EMPLOYEE import Employee\n",
    "\n",
    "\n",
    "from Employee import Employee\n",
    "\n",
    "employee = Employee(\"Sherin\", 70000)\n",
    "\n",
    "print(\"Employee Name:\", employee.get_name())\n",
    "print(\"Employee Salary:\",employee.get_salary())"
   ]
  }
 ],
 "metadata": {
  "kernelspec": {
   "display_name": "Python 3 (ipykernel)",
   "language": "python",
   "name": "python3"
  },
  "language_info": {
   "codemirror_mode": {
    "name": "ipython",
    "version": 3
   },
   "file_extension": ".py",
   "mimetype": "text/x-python",
   "name": "python",
   "nbconvert_exporter": "python",
   "pygments_lexer": "ipython3",
   "version": "3.12.7"
  }
 },
 "nbformat": 4,
 "nbformat_minor": 5
}
