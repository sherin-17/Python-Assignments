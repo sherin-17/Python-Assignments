{
 "cells": [
  {
   "cell_type": "markdown",
   "id": "6c800dff-da6e-4b98-a86e-efb2462f8402",
   "metadata": {},
   "source": [
    "### Conditional and Looping Statments"
   ]
  },
  {
   "cell_type": "code",
   "execution_count": 11,
   "id": "51d885d7-38db-4df5-8caa-d8069d8d5d6d",
   "metadata": {},
   "outputs": [
    {
     "name": "stdin",
     "output_type": "stream",
     "text": [
      "Enter the month:  3\n"
     ]
    },
    {
     "name": "stdout",
     "output_type": "stream",
     "text": [
      "Month 3 is March\n"
     ]
    }
   ],
   "source": [
    "# Exercise-1\n",
    "# Write a program that reads an integer value between 1 and 12 from the user and prints output the corresponding month of the year.\n",
    "\n",
    "\n",
    "months=[\"January\", \"February\", \"March\", \"April\",\"May\",\"June\",\"July\",\"August\",\"September\",\"October\",\"November\",\"December\"]\n",
    "number = int(input(\"Enter the month: \"))\n",
    "\n",
    "if 1 <= number <= 12:\n",
    "    print(f\"Month {number} is {months[number - 1]}\")\n",
    "else:\n",
    "    print(\"Invalid input. Please enter a number between 1 and 12.\")\n"
   ]
  },
  {
   "cell_type": "code",
   "execution_count": 12,
   "id": "416d8842-ddcb-4547-a7ed-c7d8b95c3dd7",
   "metadata": {},
   "outputs": [
    {
     "name": "stdin",
     "output_type": "stream",
     "text": [
      "Enter your age:  63\n"
     ]
    },
    {
     "name": "stdout",
     "output_type": "stream",
     "text": [
      "Your Ticket price: £2.0\n"
     ]
    }
   ],
   "source": [
    "# Exercise-2\n",
    "#A certain cinema currently sells tickets for a full price of 6 pounds, but always sells tickets for half price to people who are less than 16 years old,\n",
    "# and for a third of the price for people who are 60 years old or more.\n",
    "\n",
    "age = int(input(\"Enter your age: \"))\n",
    "full_price = 6.0\n",
    "\n",
    "if age < 16:\n",
    "    price = full_price / 2\n",
    "elif age >= 60:\n",
    "    price = full_price / 3\n",
    "else:\n",
    "    price = full_price\n",
    "\n",
    "print(f\"Your Ticket price: £{price}\")\n",
    "\n"
   ]
  },
  {
   "cell_type": "code",
   "execution_count": 13,
   "id": "a697d96c-e3e5-4a3b-8166-3edf0850b0c5",
   "metadata": {},
   "outputs": [
    {
     "name": "stdin",
     "output_type": "stream",
     "text": [
      "Enter your weight in kg:  75\n",
      "Enter your height in meters:  1.70\n"
     ]
    },
    {
     "name": "stdout",
     "output_type": "stream",
     "text": [
      "Your BMI is: 25.95\n",
      "You are overweight.\n"
     ]
    }
   ],
   "source": [
    "# Exercise- 3\n",
    "# Write a program to calculate your BMI and give weight status. Body Mass Index (BMI) is an internationally used measurement to check if you are a healthy weight for your height.\n",
    "# The metric BMI formula accepts weight in kilograms and height in meters:\n",
    "# BMI range = kg/m2  \n",
    "\n",
    "weight = float(input(\"Enter your weight in kg: \"))\n",
    "height = float(input(\"Enter your height in meters: \"))\n",
    "\n",
    "bmi = weight / (height ** 2)\n",
    "print(f\"Your BMI is: {bmi:.2f}\")\n",
    "\n",
    "if bmi < 18.5:\n",
    "    print(\"You are underweight.\")\n",
    "elif 18.5 <= bmi < 25:\n",
    "    print(\"You have a normal weight.\")\n",
    "elif 25 <= bmi < 30:\n",
    "    print(\"You are overweight.\")\n",
    "else:\n",
    "    print(\"You are obese.\")\n",
    "\n"
   ]
  },
  {
   "cell_type": "code",
   "execution_count": 15,
   "id": "1d37da87-ff70-46c8-a762-851c85737181",
   "metadata": {},
   "outputs": [
    {
     "name": "stdin",
     "output_type": "stream",
     "text": [
      "Enter first number:  56\n",
      "Enter second number:  17\n",
      "Enter third number:  78\n"
     ]
    },
    {
     "name": "stdout",
     "output_type": "stream",
     "text": [
      "The largest number is: 78.0\n"
     ]
    }
   ],
   "source": [
    "# Exercise-4\n",
    "# Write a Python program to receive 3 numbers from the user and print the greatest among them.\n",
    "\n",
    "n1 = float(input(\"Enter first number: \"))\n",
    "n2 = float(input(\"Enter second number: \"))\n",
    "n3 = float(input(\"Enter third number: \"))\n",
    "\n",
    "if (n1 >= n2) and (n1 >= n3):\n",
    "    largest = n1\n",
    "elif (n2 >= n1) and (n2 >= n3):\n",
    "    largest = n2\n",
    "else:\n",
    "    largest = n3\n",
    "\n",
    "print(\"The largest number is:\", largest)\n"
   ]
  },
  {
   "cell_type": "code",
   "execution_count": 3,
   "id": "6a74201f-3cb5-4282-8def-f10087b83226",
   "metadata": {},
   "outputs": [
    {
     "name": "stdin",
     "output_type": "stream",
     "text": [
      "Enter a number:  5\n"
     ]
    },
    {
     "name": "stdout",
     "output_type": "stream",
     "text": [
      "The factorial of 5 is 120\n"
     ]
    }
   ],
   "source": [
    "# Exercise-5\n",
    "# Find the factorial of a given number using loops(note the number is received from the user)\n",
    "\n",
    "number = int(input(\"Enter a number: \"))\n",
    "factorial = 1\n",
    "\n",
    "if number < 0:\n",
    "    print(\"Sorry, factorial does not exist for negative numbers.\")\n",
    "elif number == 0:\n",
    "    print(\"The factorial of 0 is 1.\")\n",
    "else:\n",
    "    for i in range(1, number + 1):\n",
    "        factorial *= i\n",
    "    print(\"The factorial of\", number, \"is\", factorial)\n"
   ]
  },
  {
   "cell_type": "code",
   "execution_count": 6,
   "id": "25478ebb-f380-466b-ab98-57a384dafff9",
   "metadata": {},
   "outputs": [
    {
     "name": "stdin",
     "output_type": "stream",
     "text": [
      "Enter a number:  9876543210\n"
     ]
    },
    {
     "name": "stdout",
     "output_type": "stream",
     "text": [
      "Reversed number is: 123456789\n"
     ]
    }
   ],
   "source": [
    "# Exercise-6\n",
    "# Reverse a number using while loop\n",
    "\n",
    "number = int(input(\"Enter a number: \"))\n",
    "reverse_no = 0\n",
    "\n",
    "while number > 0:\n",
    "    digit = number % 10\n",
    "    reverse_no = reverse_no * 10 + digit\n",
    "    number = number // 10\n",
    "\n",
    "print(\"Reversed number is:\",reverse_no)\n"
   ]
  },
  {
   "cell_type": "code",
   "execution_count": 7,
   "id": "1e0b39bf-92e8-4f25-8d97-b7f452e8b13e",
   "metadata": {},
   "outputs": [
    {
     "name": "stdin",
     "output_type": "stream",
     "text": [
      "Enter a number 6\n"
     ]
    },
    {
     "name": "stdout",
     "output_type": "stream",
     "text": [
      "6 * 1 = 6\n",
      "6 * 2 = 12\n",
      "6 * 3 = 18\n",
      "6 * 4 = 24\n",
      "6 * 5 = 30\n",
      "6 * 6 = 36\n",
      "6 * 7 = 42\n",
      "6 * 8 = 48\n",
      "6 * 9 = 54\n",
      "6 * 10 = 60\n"
     ]
    }
   ],
   "source": [
    "# Exercise-7\n",
    "# Finding the multiples of a number using loop\n",
    "\n",
    "n=int(input(\"Enter a number\"))\n",
    "\n",
    "for i in range(1,11):\n",
    "    print(n,\"*\",i,\"=\",n*i)\n"
   ]
  },
  {
   "cell_type": "code",
   "execution_count": 11,
   "id": "0175e23d-5316-4bc5-8453-7f04ebc6e869",
   "metadata": {},
   "outputs": [
    {
     "name": "stdin",
     "output_type": "stream",
     "text": [
      "Enter something (type 'done' to exit):  hello there\n"
     ]
    },
    {
     "name": "stdout",
     "output_type": "stream",
     "text": [
      "You entered: hello there\n"
     ]
    },
    {
     "name": "stdin",
     "output_type": "stream",
     "text": [
      "Enter something (type 'done' to exit):  finished\n"
     ]
    },
    {
     "name": "stdout",
     "output_type": "stream",
     "text": [
      "You entered: finished\n"
     ]
    },
    {
     "name": "stdin",
     "output_type": "stream",
     "text": [
      "Enter something (type 'done' to exit):  done\n"
     ]
    }
   ],
   "source": [
    "# Exercise-8\n",
    "# Write a program to print the inputted value as it is and break the loop if the value is 'done'.\n",
    "\n",
    "while True:\n",
    "    user_input = input(\"Enter something (type 'done' to exit): \")\n",
    "    if user_input == 'done':\n",
    "        break\n",
    "    else:\n",
    "        print(\"You entered:\", user_input)\n",
    "    "
   ]
  },
  {
   "cell_type": "code",
   "execution_count": 12,
   "id": "16207cdb-6517-472c-bd64-5b6a982b981a",
   "metadata": {},
   "outputs": [
    {
     "name": "stdout",
     "output_type": "stream",
     "text": [
      "1\n",
      "2\n",
      "Fizz\n",
      "4\n",
      "Buzz\n",
      "Fizz\n",
      "7\n",
      "8\n",
      "Fizz\n",
      "Buzz\n"
     ]
    }
   ],
   "source": [
    "# Exercise-9\n",
    "# Write a program that prints the numbers from 1 to 10. But for multiples of three print \"Fizz\" instead of the number and for the \n",
    "# multiple of five print \"Buzz\". For numbers which are multiples of both three and five print \"FizzBuzz\"\n",
    "\n",
    "for i in range(1, 11):\n",
    "    if i % 3 == 0 and i % 5 == 0:\n",
    "        print(\"FizzBuzz\")\n",
    "    elif i % 3 == 0:\n",
    "        print(\"Fizz\")\n",
    "    elif i % 5 == 0:\n",
    "        print(\"Buzz\")\n",
    "    else:\n",
    "        print(i)\n",
    "\n"
   ]
  },
  {
   "cell_type": "code",
   "execution_count": 13,
   "id": "a7942a2b-20e3-4d42-ad7c-90abd58bd036",
   "metadata": {},
   "outputs": [
    {
     "name": "stdout",
     "output_type": "stream",
     "text": [
      "5 4 3 2 1 \n",
      "4 3 2 1 \n",
      "3 2 1 \n",
      "2 1 \n",
      "1 \n"
     ]
    }
   ],
   "source": [
    "# Exercise-10\n",
    "# Write a program to print the following pattern:\n",
    "\n",
    "# 5 4 3 2 1\n",
    "# 4 3 2 1\n",
    "# 3 2 1\n",
    "# 2 1\n",
    "# 1\n",
    "\n",
    "for i in range(5, 0, -1):\n",
    "    for j in range(i, 0, -1):\n",
    "        print(j, end=' ')\n",
    "    print()\n"
   ]
  }
 ],
 "metadata": {
  "kernelspec": {
   "display_name": "Python 3 (ipykernel)",
   "language": "python",
   "name": "python3"
  },
  "language_info": {
   "codemirror_mode": {
    "name": "ipython",
    "version": 3
   },
   "file_extension": ".py",
   "mimetype": "text/x-python",
   "name": "python",
   "nbconvert_exporter": "python",
   "pygments_lexer": "ipython3",
   "version": "3.12.7"
  }
 },
 "nbformat": 4,
 "nbformat_minor": 5
}
