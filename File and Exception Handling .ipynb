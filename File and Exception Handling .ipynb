{
 "cells": [
  {
   "cell_type": "markdown",
   "id": "a10f52f9-ce4d-477f-81f6-77e2b857d276",
   "metadata": {},
   "source": [
    "### File and Exception Handling"
   ]
  },
  {
   "cell_type": "code",
   "execution_count": 1,
   "id": "8ff49b13-6e20-4ac1-aa02-9fafc7751fad",
   "metadata": {},
   "outputs": [
    {
     "data": {
      "text/plain": [
       "'Hello, welcome to D47 batch.'"
      ]
     },
     "execution_count": 1,
     "metadata": {},
     "output_type": "execute_result"
    }
   ],
   "source": [
    "# Exercise-1\n",
    "# Write a Python program to read a file and display its contents\n",
    "file=open(\"Desktop/Data.txt\",\"r\")\n",
    "file.read()"
   ]
  },
  {
   "cell_type": "code",
   "execution_count": 6,
   "id": "40425cb4-6161-4d55-a2d0-b88dffaadae8",
   "metadata": {},
   "outputs": [
    {
     "name": "stdout",
     "output_type": "stream",
     "text": [
      "Hello, welcome to D47 batch.\n"
     ]
    }
   ],
   "source": [
    "# Exercise-2\n",
    "# Write a Python program to copy the contents of one file to another file\n",
    "with open(\"Desktop/Data.txt\", \"r\") as source_file, open(\"Desktop/New data.txt\", \"w\") as new_file:\n",
    "    data = source_file.read()\n",
    "    new_file.write(data)\n",
    "\n",
    "with open(\"Desktop/New data.txt\", \"r\") as new_file:\n",
    "    print(new_file.read())"
   ]
  },
  {
   "cell_type": "code",
   "execution_count": 6,
   "id": "6fee6884-2445-45fd-a6be-23d786417642",
   "metadata": {},
   "outputs": [
    {
     "name": "stdout",
     "output_type": "stream",
     "text": [
      "The total number of words is: 5\n"
     ]
    }
   ],
   "source": [
    "# Exercise-3\n",
    "# Write a Python program to read the content of a file and count the total number of words in that file.\n",
    "file = open(\"Desktop/Data.txt\", \"r\")\n",
    "content = file.read()\n",
    "count_word = len(content.split())\n",
    "\n",
    "print(\"The total number of words is:\",count_word)\n"
   ]
  },
  {
   "cell_type": "code",
   "execution_count": 24,
   "id": "7d2ee66f-5a3f-4e00-93d7-d1dd10011b80",
   "metadata": {},
   "outputs": [
    {
     "name": "stdin",
     "output_type": "stream",
     "text": [
      "Enter a number:  130\n"
     ]
    },
    {
     "name": "stdout",
     "output_type": "stream",
     "text": [
      "You entered the integer: 130\n"
     ]
    }
   ],
   "source": [
    "# Exercise-4\n",
    "# Write a Python program that prompts the user to input a string and converts it to an integer.\n",
    "# Use try-except blocks to handle any exceptions that might occur\n",
    "def convert_to_integer():\n",
    "    user_input = input(\"Enter a number: \")\n",
    "    try:\n",
    "        number = int(user_input)\n",
    "        print(f\"You entered the integer: {number}\")\n",
    "    except ValueError:\n",
    "        print(\"Invalid input. Please enter a valid integer.\")\n",
    "\n",
    "convert_to_integer()\n"
   ]
  },
  {
   "cell_type": "code",
   "execution_count": 1,
   "id": "8d3629ae-38f3-4690-9068-48972e2a2dbc",
   "metadata": {},
   "outputs": [
    {
     "name": "stdin",
     "output_type": "stream",
     "text": [
      "Enter integers separated by spaces:  15 56 -45\n"
     ]
    },
    {
     "name": "stdout",
     "output_type": "stream",
     "text": [
      "Error: Negative integer found: -45\n"
     ]
    }
   ],
   "source": [
    "# Exercise-5\n",
    "# Write a Python program that prompts the user to input a list of integers and raises an exception if any of the integers in the list are negative.\n",
    "\n",
    "def check_non_negative_integers():\n",
    "    try:\n",
    "        user_input = input(\"Enter integers separated by spaces: \")\n",
    "        numbers = [int(num) for num in user_input.split()]\n",
    "        for num in numbers:\n",
    "            if num < 0:\n",
    "                raise ValueError(f\"Negative integer found: {num}\")\n",
    "        print(\"All integers are non-negative.\")\n",
    "    except ValueError as e:\n",
    "        print(f\"Error: {e}\")\n",
    "\n",
    "check_non_negative_integers()"
   ]
  },
  {
   "cell_type": "code",
   "execution_count": 2,
   "id": "e6998ed7-3ea5-48a2-b5ca-b77e73323b12",
   "metadata": {},
   "outputs": [
    {
     "name": "stdin",
     "output_type": "stream",
     "text": [
      "Enter a list of integers, separated by spaces:  34\n"
     ]
    },
    {
     "name": "stdout",
     "output_type": "stream",
     "text": [
      "The average of the entered integers is: 34.0\n",
      "The program has finished running.\n"
     ]
    }
   ],
   "source": [
    "# Exercise-6\n",
    "# Write a Python program that prompts the user to input a list of integers and computes the average of those integers. \n",
    "# Use try-except blocks to handle any exceptions that might occur.use the finally clause to print a message indicating that the program has finished running.\n",
    "try:\n",
    "    user_input = input(\"Enter a list of integers, separated by spaces: \")\n",
    "    numbers = [int(num) for num in user_input.split()]\n",
    "    average = sum(numbers) / len(numbers)\n",
    "    \n",
    "    print(f\"The average of the entered integers is: {average}\")\n",
    "except ValueError:\n",
    "    print(\"Invalid input! Please enter only integers separated by spaces.\")\n",
    "except ZeroDivisionError:\n",
    "    print(\"No numbers were entered! Cannot compute the average.\")\n",
    "except:\n",
    "    print(\"An unexpected error occurred:\")\n",
    "finally:\n",
    "    print(\"The program has finished running.\")\n"
   ]
  },
  {
   "cell_type": "code",
   "execution_count": 2,
   "id": "a5f3e5d1-320f-495d-be05-9e6b0e6f3de7",
   "metadata": {},
   "outputs": [
    {
     "name": "stdin",
     "output_type": "stream",
     "text": [
      "Enter the filename (including the path if needed):  New data.txt\n",
      "Enter the string you want to write to the file:  Hi, \n"
     ]
    },
    {
     "name": "stdout",
     "output_type": "stream",
     "text": [
      "Welcome! The string has been written to the file successfully.\n",
      "The program has finished running.\n"
     ]
    }
   ],
   "source": [
    "# Excercise-7\n",
    "# Write a Python program that prompts the user to input a filename and writes a string to that file. Use try-except blocks to handle any exceptions \n",
    "# that might occur and print a welcome message if there is no exception occurred.\n",
    "try:\n",
    "    filename = input(\"Enter the filename (including the path if needed): \")\n",
    "    content = input(\"Enter the string you want to write to the file: \")\n",
    "    with open(filename, \"w\") as file:\n",
    "        file.write(content)\n",
    "    \n",
    "    print(\"Welcome! The string has been written to the file successfully.\")\n",
    "except FileNotFoundError:\n",
    "    print(\"The file path is invalid. Please check and try again.\")\n",
    "except PermissionError:\n",
    "    print(\"You don't have permission to write to this file.\")\n",
    "except Exception as e:\n",
    "    print(f\"An error occurred: {e}\")\n",
    "finally:\n",
    "    print(\"The program has finished running.\")\n"
   ]
  }
 ],
 "metadata": {
  "kernelspec": {
   "display_name": "Python 3 (ipykernel)",
   "language": "python",
   "name": "python3"
  },
  "language_info": {
   "codemirror_mode": {
    "name": "ipython",
    "version": 3
   },
   "file_extension": ".py",
   "mimetype": "text/x-python",
   "name": "python",
   "nbconvert_exporter": "python",
   "pygments_lexer": "ipython3",
   "version": "3.12.7"
  }
 },
 "nbformat": 4,
 "nbformat_minor": 5
}
